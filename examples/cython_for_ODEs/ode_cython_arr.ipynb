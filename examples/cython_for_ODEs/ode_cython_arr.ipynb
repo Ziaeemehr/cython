{
 "cells": [
  {
   "cell_type": "markdown",
   "metadata": {},
   "source": [
    "## [Introduction to Cython for Solving Differential Equations](http://hplgit.github.io/teamods/cyode/cyode-sphinx/main_cyode.html) \n",
    "-  part two"
   ]
  },
  {
   "cell_type": "markdown",
   "metadata": {},
   "source": [
    "### Using arrays"
   ]
  },
  {
   "cell_type": "code",
   "execution_count": 2,
   "metadata": {},
   "outputs": [],
   "source": [
    "import time\n",
    "import timeit"
   ]
  },
  {
   "cell_type": "code",
   "execution_count": 29,
   "metadata": {},
   "outputs": [],
   "source": [
    "N = 300000"
   ]
  },
  {
   "cell_type": "code",
   "execution_count": 36,
   "metadata": {},
   "outputs": [],
   "source": [
    "import numpy as np\n",
    "import pylab as pl\n",
    "\n",
    "def solver(f, I, t, method):\n",
    "    t = np.asarray(t)\n",
    "    N = len(t)-1\n",
    "    u = np.zeros(N+1)\n",
    "    u[0] = I\n",
    "\n",
    "    for n in range(N):\n",
    "        u[n+1] = method(u, n, t, f)\n",
    "    return u, t\n",
    "\n",
    "def RK2(u, n, t, f):\n",
    "    dt = t[n+1] - t[n]\n",
    "    K1 = dt*f(u[n], t[n])\n",
    "    K2 = dt*f(u[n] + 0.5*K1, t[n] + 0.5*dt)\n",
    "    unew = u[n] + K2\n",
    "    return unew\n",
    "\n",
    "def problem1(u, t):\n",
    "    return - u + 1\n",
    "\n",
    "def problem2(u, t):\n",
    "    return - u + exp(-2*t)"
   ]
  },
  {
   "cell_type": "code",
   "execution_count": 37,
   "metadata": {},
   "outputs": [],
   "source": [
    "def run(N, problem, plot=False):\n",
    "        I = 0\n",
    "        t = np.linspace(0., 5., N)\n",
    "        u, t = solver(problem, I, t, RK2)\n",
    "        \n",
    "        if plot:\n",
    "            print(len(u), len(t))\n",
    "            pl.plot(t, u)\n",
    "            pl.show()"
   ]
  },
  {
   "cell_type": "code",
   "execution_count": 41,
   "metadata": {},
   "outputs": [
    {
     "name": "stdout",
     "output_type": "stream",
     "text": [
      "1.31 s ± 38.5 ms per loop (mean ± std. dev. of 7 runs, 1 loop each)\n",
      "1.46 s ± 3.09 ms per loop (mean ± std. dev. of 7 runs, 1 loop each)\n"
     ]
    }
   ],
   "source": [
    "# run pure python \n",
    "%timeit run(N, problem1)\n",
    "%timeit run(N, problem2)"
   ]
  },
  {
   "cell_type": "code",
   "execution_count": 42,
   "metadata": {},
   "outputs": [
    {
     "name": "stdout",
     "output_type": "stream",
     "text": [
      "The Cython extension is already loaded. To reload it, use:\n",
      "  %reload_ext Cython\n"
     ]
    }
   ],
   "source": [
    "%load_ext Cython"
   ]
  },
  {
   "cell_type": "code",
   "execution_count": 51,
   "metadata": {},
   "outputs": [],
   "source": [
    "%%cython\n",
    "import numpy as np\n",
    "import pylab as pl\n",
    "\n",
    "def solver(f, I, t, method):\n",
    "    t = np.asarray(t)\n",
    "    N = len(t)-1\n",
    "    u = np.zeros(N+1)\n",
    "    u[0] = I\n",
    "\n",
    "    for n in range(N):\n",
    "        u[n+1] = method(u, n, t, f)\n",
    "    return u, t\n",
    "\n",
    "def RK2(u, n, t, f):\n",
    "    dt = t[n+1] - t[n]\n",
    "    K1 = dt*f(u[n], t[n])\n",
    "    K2 = dt*f(u[n] + 0.5*K1, t[n] + 0.5*dt)\n",
    "    unew = u[n] + K2\n",
    "    return unew\n",
    "\n",
    "def problem1(u, t):\n",
    "    return - u + 1\n",
    "\n",
    "from math import exp\n",
    "def problem2(u, t):\n",
    "    return - u + exp(-2*t)\n"
   ]
  },
  {
   "cell_type": "code",
   "execution_count": 52,
   "metadata": {},
   "outputs": [
    {
     "name": "stdout",
     "output_type": "stream",
     "text": [
      "1.09 s ± 109 ms per loop (mean ± std. dev. of 7 runs, 1 loop each)\n",
      "1.24 s ± 18.8 ms per loop (mean ± std. dev. of 7 runs, 1 loop each)\n"
     ]
    }
   ],
   "source": [
    "# only compiled with cython \n",
    "%timeit run(N, problem1)\n",
    "%timeit run(N, problem2)"
   ]
  },
  {
   "cell_type": "code",
   "execution_count": 53,
   "metadata": {},
   "outputs": [],
   "source": [
    "%%cython\n",
    "\"\"\"\n",
    "Variables are declared with types.\n",
    "Functions as arguments are represented by classes and instances.\n",
    "\"\"\"\n",
    "# Note: need both numpy imports!\n",
    "import numpy as np\n",
    "cimport numpy as np\n",
    "\n",
    "cdef class Problem:\n",
    "    cpdef double rhs(self, double u, double t):\n",
    "        return 0\n",
    "\n",
    "cdef class Problem1(Problem):\n",
    "    cpdef double rhs(self, double u, double t):\n",
    "        return -u + 1  # u = 1-exp(-t)\n",
    "\n",
    "from math import exp\n",
    "\n",
    "cdef class Problem2(Problem):\n",
    "    cpdef double rhs(self, double u, double t):\n",
    "        return - u + exp(-2*t)\n",
    "\n",
    "cdef class ODEMethod:\n",
    "    cpdef double advance(self, np.ndarray u, int n,\n",
    "                         np.ndarray t, Problem p):\n",
    "        return 0\n",
    "\n",
    "cdef class Method_RK2(ODEMethod):\n",
    "    cpdef double advance(self, np.ndarray u, int n,\n",
    "                         np.ndarray t, Problem p):\n",
    "        cdef double K1, K2, unew, dt\n",
    "        dt = t[n+1] - t[n]\n",
    "        K1 = dt*p.rhs(u[n], t[n])\n",
    "        K2 = dt*p.rhs(u[n] + 0.5*K1, t[n] + 0.5*dt)\n",
    "        unew = u[n] + K2\n",
    "        return unew\n",
    "\n",
    "# Create names compatible with ode0.py\n",
    "RK2 = Method_RK2()\n",
    "problem1 = Problem1()\n",
    "problem2 = Problem2()\n",
    "\n",
    "cpdef solver(Problem f, double I, np.ndarray t, ODEMethod method):\n",
    "    cdef int N = len(t)-1\n",
    "    cdef np.ndarray u = np.zeros(N+1, dtype=np.float)\n",
    "    u[0] = I\n",
    "\n",
    "    cdef int n\n",
    "    for n in range(N):\n",
    "        u[n+1] = method.advance(u, n, t, f)\n",
    "    return u, t\n"
   ]
  },
  {
   "cell_type": "code",
   "execution_count": 54,
   "metadata": {},
   "outputs": [
    {
     "name": "stdout",
     "output_type": "stream",
     "text": [
      "443 ms ± 117 ms per loop (mean ± std. dev. of 7 runs, 1 loop each)\n",
      "601 ms ± 13.3 ms per loop (mean ± std. dev. of 7 runs, 1 loop each)\n"
     ]
    }
   ],
   "source": [
    "%timeit run(N, problem1)\n",
    "%timeit run(N, problem2)"
   ]
  },
  {
   "cell_type": "code",
   "execution_count": 55,
   "metadata": {},
   "outputs": [],
   "source": [
    "# declaring numpy array with type and dimension\n",
    "# np.ndarray[np.float_t, ndim=1]"
   ]
  },
  {
   "cell_type": "code",
   "execution_count": 57,
   "metadata": {},
   "outputs": [],
   "source": [
    "%%cython\n",
    "import numpy as np   # note: need both imports!\n",
    "cimport numpy as np\n",
    "\n",
    "cdef class Problem:\n",
    "    cpdef double rhs(self, double u, double t):\n",
    "        return 0\n",
    "\n",
    "cdef class Problem1(Problem):\n",
    "    cpdef double rhs(self, double u, double t):\n",
    "        return -u +1  # u = 1-exp(-t)\n",
    "\n",
    "# cdef extern from \"math.h\":\n",
    "#     double exp(double)\n",
    "from math import exp\n",
    "\n",
    "cdef class Problem2(Problem):\n",
    "    cpdef double rhs(self, double u, double t):\n",
    "        return - u + exp(-2*t)\n",
    "\n",
    "# NOTE: need def, not cpdef, for functions with array arguments\n",
    "# and [] buffer notation.\n",
    "# Common error message: \"Expected ']'\"\n",
    "\n",
    "cdef class ODEMethod:\n",
    "    def advance(self, \n",
    "                np.ndarray[np.float_t, ndim=1] u,\n",
    "                int n, \n",
    "                np.ndarray[np.float_t, ndim=1] t, \n",
    "                Problem p):\n",
    "        return 0\n",
    "\n",
    "cdef class Method_RK2(ODEMethod):\n",
    "    def advance(self, \n",
    "                np.ndarray[np.float_t, ndim=1] u, \n",
    "                int n,\n",
    "                np.ndarray[np.float_t, ndim=1] t, \n",
    "                Problem p):\n",
    "        \"\"\"2nd-orderRunge-Kutta method.\"\"\"\n",
    "        cdef double K1, K2, unew, dt\n",
    "        dt = t[n+1] - t[n]\n",
    "        K1 = dt*p.rhs(u[n], t[n])\n",
    "        K2 = dt*p.rhs(u[n] + 0.5*K1, t[n] + 0.5*dt)\n",
    "        unew = u[n] + K2\n",
    "        return unew\n",
    "    \n",
    "# Create names compatible with ode0.py\n",
    "RK2 = Method_RK2()\n",
    "problem1 = Problem1()\n",
    "problem2 = Problem2()\n",
    "\n",
    "\n",
    "def solver(Problem f, double I, \n",
    "           np.ndarray[np.float_t, ndim=1] t, \n",
    "           ODEMethod method):\n",
    "    cdef int N = len(t)-1\n",
    "    #cdef np.ndarray[np.float_t, ndim=1] u = np.zeros(N+1, dtype=np.float_t)\n",
    "    #Cython does not like type specification via dtype when the buffer\n",
    "    #declares the type\n",
    "    cdef np.ndarray[np.float_t, ndim=1] u = np.zeros(N+1)\n",
    "    u[0] = I   \n",
    "             \n",
    "    cdef int n\n",
    "    for n in range(N):\n",
    "        u[n+1] = method.advance(u, n, t, f)\n",
    "    return u, t"
   ]
  },
  {
   "cell_type": "code",
   "execution_count": 58,
   "metadata": {},
   "outputs": [
    {
     "name": "stdout",
     "output_type": "stream",
     "text": [
      "254 ms ± 30.7 ms per loop (mean ± std. dev. of 7 runs, 10 loops each)\n",
      "335 ms ± 1.38 ms per loop (mean ± std. dev. of 7 runs, 1 loop each)\n"
     ]
    }
   ],
   "source": [
    "%timeit run(N, problem1)\n",
    "%timeit run(N, problem2)"
   ]
  },
  {
   "cell_type": "markdown",
   "metadata": {},
   "source": [
    "Our RK2.advance method takes array arguments and performs operations on two single array elements u[n] and t[n]. We could easily avoid this and instead transfer u[n] and t[n] as double arguments"
   ]
  },
  {
   "cell_type": "code",
   "execution_count": 60,
   "metadata": {},
   "outputs": [],
   "source": [
    "%%cython\n",
    "import numpy as np   # note: need both imports!\n",
    "cimport numpy as np\n",
    "\n",
    "cdef class Problem:\n",
    "    cpdef double rhs(self, double u, double t):\n",
    "        return 0\n",
    "\n",
    "cdef class Problem1(Problem):\n",
    "    cpdef double rhs(self, double u, double t):\n",
    "        return -u +1  # u = 1-exp(-t)\n",
    "\n",
    "from math import exp\n",
    "# cdef extern from \"math.h\":\n",
    "#     double exp(double)\n",
    "\n",
    "#or\n",
    "#from libc.math cimport exp  # may need explicit -lm linking\n",
    "#see http://docs.cython.org/src/tutorial/external.html\n",
    "\n",
    "cdef class Problem2(Problem):\n",
    "    cpdef double rhs(self, double u, double t):\n",
    "        return - u + exp(-2*t)\n",
    "\n",
    "# NOTE: need def, not cpdef, for functions with array arguments\n",
    "# and [] buffer notation.\n",
    "# This means that def functions with arrays are not called very\n",
    "# efficiently, and the RK2.advance function, which basically\n",
    "# works with a single array element should be implemented alternatively\n",
    "# via doubles only.\n",
    "\n",
    "cdef class ODEMethod:\n",
    "    cpdef advance(self, double u_1, int n, double t_1,\n",
    "                  double dt, Problem p):\n",
    "        return 0\n",
    "\n",
    "cdef class Method_RK2(ODEMethod):\n",
    "    cpdef advance(self, double u_1, int n, double t_1,\n",
    "                  double dt, Problem p):\n",
    "        cdef double K1, K2, unew\n",
    "        K1 = dt*p.rhs(u_1, t_1)\n",
    "        K2 = dt*p.rhs(u_1 + 0.5*K1, t_1 + 0.5*dt)\n",
    "        unew = u_1 + K2\n",
    "        return unew\n",
    "    \n",
    "# Create names compatible with ode0.py\n",
    "RK2 = Method_RK2()\n",
    "problem1 = Problem1()\n",
    "problem2 = Problem2()\n",
    "\n",
    "\n",
    "def solver(Problem f, double I, \n",
    "           np.ndarray[np.float_t, ndim=1] t, \n",
    "           ODEMethod method):\n",
    "    cdef int N = len(t)-1\n",
    "    #cdef np.ndarray[np.float_t, ndim=1] u = np.zeros(N+1, dtype=np.float_t)\n",
    "    #Cython does not like type specification via dtype when the buffer\n",
    "    #declares the type\n",
    "    cdef np.ndarray[np.float_t, ndim=1] u = np.zeros(N+1)\n",
    "    u[0] = I   \n",
    "             \n",
    "    cdef int n\n",
    "    for n in range(N):\n",
    "        u[n+1] = method.advance(u[n], n, t[n], t[n+1]-t[n], f)\n",
    "    return u, t"
   ]
  },
  {
   "cell_type": "code",
   "execution_count": 61,
   "metadata": {},
   "outputs": [
    {
     "name": "stdout",
     "output_type": "stream",
     "text": [
      "9.51 ms ± 2.82 ms per loop (mean ± std. dev. of 7 runs, 100 loops each)\n",
      "67.8 ms ± 767 µs per loop (mean ± std. dev. of 7 runs, 10 loops each)\n"
     ]
    }
   ],
   "source": [
    "%timeit run(N, problem1)\n",
    "%timeit run(N, problem2)"
   ]
  },
  {
   "cell_type": "code",
   "execution_count": 62,
   "metadata": {},
   "outputs": [],
   "source": [
    "# turn off bounds checking for this func."
   ]
  },
  {
   "cell_type": "code",
   "execution_count": 63,
   "metadata": {},
   "outputs": [],
   "source": [
    "%%cython\n",
    "import numpy as np \n",
    "cimport numpy as np\n",
    "cimport cython\n",
    "\n",
    "cdef class Problem:\n",
    "    cpdef double rhs(self, double u, double t):\n",
    "        return 0\n",
    "\n",
    "cdef class Problem1(Problem):\n",
    "    cpdef double rhs(self, double u, double t):\n",
    "        return -u +1  # u = 1-exp(-t)\n",
    "\n",
    "from math import exp\n",
    "# cdef extern from \"math.h\":\n",
    "#     double exp(double)\n",
    "\n",
    "cdef class Problem2(Problem):\n",
    "    cpdef double rhs(self, double u, double t):\n",
    "        return - u + exp(-2*t)\n",
    "\n",
    "ctypedef np.float64_t DT\n",
    "\n",
    "cdef class ODEMethod:\n",
    "    cpdef advance(self, double u_1, int n, double t_1,\n",
    "                  double dt, Problem p):\n",
    "        return 0\n",
    "\n",
    "cdef class Method_RK2(ODEMethod):\n",
    "    cpdef advance(self, double u_1, int n, double t_1,\n",
    "                  double dt, Problem p):\n",
    "        cdef double K1, K2, unew\n",
    "        K1 = dt*p.rhs(u_1, t_1)\n",
    "        K2 = dt*p.rhs(u_1 + 0.5*K1, t_1 + 0.5*dt)\n",
    "        unew = u_1 + K2\n",
    "        return unew\n",
    "    \n",
    "# Create names compatible with ode1.py\n",
    "RK2 = Method_RK2()\n",
    "problem1 = Problem1()\n",
    "problem2 = Problem2()\n",
    "\n",
    "@cython.boundscheck(False) # turn off bounds checking for this func.\n",
    "def solver(Problem f, \n",
    "           double I, \n",
    "           np.ndarray[DT, ndim=1, negative_indices=False, \n",
    "                      mode='c'] t, \n",
    "           ODEMethod method):\n",
    "    cdef int N = len(t)-1\n",
    "    #cdef np.ndarray[DT, ndim=1, negative_indices=False, mode='c'] u = np.zeros(N+1, dtype=np.float_t)\n",
    "    #Cython does not like type specification via dtype when the buffer\n",
    "    #declares the type\n",
    "    cdef np.ndarray[DT, ndim=1, negative_indices=False, \n",
    "                    mode='c'] u = np.zeros(N+1)\n",
    "    u[0] = I   \n",
    "             \n",
    "    cdef int n\n",
    "    for n in range(N):\n",
    "        u[n+1] = method.advance(u[n], n, t[n], t[n+1]-t[n], f)\n",
    "    return u, t"
   ]
  },
  {
   "cell_type": "code",
   "execution_count": 64,
   "metadata": {},
   "outputs": [
    {
     "name": "stdout",
     "output_type": "stream",
     "text": [
      "9.02 ms ± 2.77 ms per loop (mean ± std. dev. of 7 runs, 100 loops each)\n",
      "47.5 ms ± 16.1 ms per loop (mean ± std. dev. of 7 runs, 10 loops each)\n"
     ]
    }
   ],
   "source": [
    "%timeit run(N, problem1)\n",
    "%timeit run(N, problem2)"
   ]
  },
  {
   "cell_type": "markdown",
   "metadata": {},
   "source": [
    "Changing the data type `double` to `np.float_t` all over the Cython code has negligible effect"
   ]
  },
  {
   "cell_type": "code",
   "execution_count": 65,
   "metadata": {},
   "outputs": [],
   "source": [
    "%%cython\n",
    "import numpy as np \n",
    "cimport numpy as np\n",
    "cimport cython\n",
    "\n",
    "cdef class Problem:\n",
    "    cpdef np.float_t rhs(self, np.float_t u, np.float_t t):\n",
    "        return 0\n",
    "\n",
    "cdef class Problem1(Problem):\n",
    "    cpdef np.float_t rhs(self, np.float_t u, np.float_t t):\n",
    "        return -u +1  # u = 1-exp(-t)\n",
    "\n",
    "from math import exp\n",
    "# cdef extern from \"math.h\":\n",
    "#     np.float_t exp(np.float_t)\n",
    "\n",
    "cdef class Problem2(Problem):\n",
    "    cpdef np.float_t rhs(self, np.float_t u, np.float_t t):\n",
    "        return - u + exp(-2*t)\n",
    "\n",
    "ctypedef np.float64_t DT\n",
    "\n",
    "cdef class ODEMethod:\n",
    "    cpdef advance(self, np.float_t u_1, int n, np.float_t t_1,\n",
    "                  np.float_t dt, Problem p):\n",
    "        return 0\n",
    "\n",
    "cdef class Method_RK2(ODEMethod):\n",
    "    cpdef advance(self, np.float_t u_1, int n, np.float_t t_1,\n",
    "                  np.float_t dt, Problem p):\n",
    "        cdef np.float_t K1, K2, unew\n",
    "        K1 = dt*p.rhs(u_1, t_1)\n",
    "        K2 = dt*p.rhs(u_1 + 0.5*K1, t_1 + 0.5*dt)\n",
    "        unew = u_1 + K2\n",
    "        return unew\n",
    "    \n",
    "# Create names compatible with ode1.py\n",
    "RK2 = Method_RK2()\n",
    "problem1 = Problem1()\n",
    "problem2 = Problem2()\n",
    "\n",
    "@cython.boundscheck(False) # turn off bounds checking for this func.\n",
    "def solver(Problem f, \n",
    "           np.float_t I, \n",
    "           np.ndarray[DT, ndim=1, negative_indices=False, mode='c'] t, \n",
    "           ODEMethod method):\n",
    "    cdef int N = len(t)-1\n",
    "    #cdef np.ndarray[DT, ndim=1, negative_indices=False, mode='c'] u = np.zeros(N+1, dtype=np.float_t)\n",
    "    #Cython does not like type specification via dtype when the buffer\n",
    "    #declares the type\n",
    "    cdef np.ndarray[DT, ndim=1, negative_indices=False, \n",
    "                    mode='c'] u = np.zeros(N+1)\n",
    "    u[0] = I   \n",
    "             \n",
    "    cdef int n\n",
    "    for n in range(N):\n",
    "        u[n+1] = method.advance(u[n], n, t[n], t[n+1]-t[n], f)\n",
    "    return u, t"
   ]
  },
  {
   "cell_type": "code",
   "execution_count": 66,
   "metadata": {},
   "outputs": [
    {
     "name": "stdout",
     "output_type": "stream",
     "text": [
      "10.2 ms ± 2.45 ms per loop (mean ± std. dev. of 7 runs, 100 loops each)\n",
      "48.2 ms ± 16.1 ms per loop (mean ± std. dev. of 7 runs, 10 loops each)\n"
     ]
    }
   ],
   "source": [
    "%timeit run(N, problem1)\n",
    "%timeit run(N, problem2)"
   ]
  },
  {
   "cell_type": "code",
   "execution_count": 67,
   "metadata": {},
   "outputs": [],
   "source": [
    "# using `exp` from `math.h`"
   ]
  },
  {
   "cell_type": "code",
   "execution_count": 68,
   "metadata": {},
   "outputs": [],
   "source": [
    "%%cython\n",
    "import numpy as np \n",
    "cimport numpy as np\n",
    "cimport cython\n",
    "\n",
    "cdef class Problem:\n",
    "    cpdef double rhs(self, double u, double t):\n",
    "        return 0\n",
    "\n",
    "cdef class Problem1(Problem):\n",
    "    cpdef double rhs(self, double u, double t):\n",
    "        return -u +1  # u = 1-exp(-t)\n",
    "\n",
    "# from math import exp\n",
    "cdef extern from \"math.h\":\n",
    "    double exp(double)\n",
    "\n",
    "cdef class Problem2(Problem):\n",
    "    cpdef double rhs(self, double u, double t):\n",
    "        return - u + exp(-2*t)\n",
    "\n",
    "ctypedef np.float64_t DT\n",
    "\n",
    "cdef class ODEMethod:\n",
    "    cpdef advance(self, double u_1, int n, double t_1,\n",
    "                  double dt, Problem p):\n",
    "        return 0\n",
    "\n",
    "cdef class Method_RK2(ODEMethod):\n",
    "    cpdef advance(self, double u_1, int n, double t_1,\n",
    "                  double dt, Problem p):\n",
    "        cdef double K1, K2, unew\n",
    "        K1 = dt*p.rhs(u_1, t_1)\n",
    "        K2 = dt*p.rhs(u_1 + 0.5*K1, t_1 + 0.5*dt)\n",
    "        unew = u_1 + K2\n",
    "        return unew\n",
    "    \n",
    "# Create names compatible with ode1.py\n",
    "RK2 = Method_RK2()\n",
    "problem1 = Problem1()\n",
    "problem2 = Problem2()\n",
    "\n",
    "@cython.boundscheck(False) # turn off bounds checking for this func.\n",
    "def solver(Problem f, \n",
    "           double I, \n",
    "           np.ndarray[DT, ndim=1, negative_indices=False, \n",
    "                      mode='c'] t, \n",
    "           ODEMethod method):\n",
    "    cdef int N = len(t)-1\n",
    "    #cdef np.ndarray[DT, ndim=1, negative_indices=False, mode='c'] u = np.zeros(N+1, dtype=np.float_t)\n",
    "    #Cython does not like type specification via dtype when the buffer\n",
    "    #declares the type\n",
    "    cdef np.ndarray[DT, ndim=1, negative_indices=False, \n",
    "                    mode='c'] u = np.zeros(N+1)\n",
    "    u[0] = I   \n",
    "             \n",
    "    cdef int n\n",
    "    for n in range(N):\n",
    "        u[n+1] = method.advance(u[n], n, t[n], t[n+1]-t[n], f)\n",
    "    return u, t"
   ]
  },
  {
   "cell_type": "code",
   "execution_count": 69,
   "metadata": {},
   "outputs": [
    {
     "name": "stdout",
     "output_type": "stream",
     "text": [
      "16.7 ms ± 6.26 ms per loop (mean ± std. dev. of 7 runs, 10 loops each)\n"
     ]
    }
   ],
   "source": [
    "%timeit run(N, problem2)"
   ]
  },
  {
   "cell_type": "code",
   "execution_count": null,
   "metadata": {},
   "outputs": [],
   "source": []
  }
 ],
 "metadata": {
  "kernelspec": {
   "display_name": "Python 3.6.9 64-bit",
   "language": "python",
   "name": "python36964bit057198969e4a45748e1a89b322631a22"
  },
  "language_info": {
   "codemirror_mode": {
    "name": "ipython",
    "version": 3
   },
   "file_extension": ".py",
   "mimetype": "text/x-python",
   "name": "python",
   "nbconvert_exporter": "python",
   "pygments_lexer": "ipython3",
   "version": "3.6.9"
  }
 },
 "nbformat": 4,
 "nbformat_minor": 4
}
